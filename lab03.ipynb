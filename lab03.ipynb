{
 "cells": [
  {
   "attachments": {},
   "cell_type": "markdown",
   "metadata": {},
   "source": [
    "## Lab 03"
   ]
  },
  {
   "attachments": {},
   "cell_type": "markdown",
   "metadata": {},
   "source": [
    "## Zadanie 1"
   ]
  },
  {
   "attachments": {},
   "cell_type": "markdown",
   "metadata": {},
   "source": [
    "a) Napisz funkcję, która wypisuje wiadomość opcjonalnie wraz z podaną wartością"
   ]
  },
  {
   "cell_type": "code",
   "execution_count": 4,
   "metadata": {},
   "outputs": [
    {
     "name": "stdout",
     "output_type": "stream",
     "text": [
      "Hello World!\n",
      "The value is: 42\n"
     ]
    }
   ],
   "source": [
    "def log(string,value=None):\n",
    "    \" Wypisuje wiadomość opcjonalnie wraz z podaną wartością \"\n",
    "    if (value==None):\n",
    "        print(string)\n",
    "    else:\n",
    "        print(string + \": \" + str(value))\n",
    "    \n",
    "\n",
    "\n",
    "log(\"Hello World!\") # Hello World!\n",
    "log(\"The value is\", 42) # The value is: 42"
   ]
  },
  {
   "attachments": {},
   "cell_type": "markdown",
   "metadata": {},
   "source": [
    "b) Napisz funkcję, która zwraca średnią z podanych liczb"
   ]
  },
  {
   "cell_type": "code",
   "execution_count": 18,
   "metadata": {},
   "outputs": [
    {
     "name": "stdout",
     "output_type": "stream",
     "text": [
      "True\n",
      "True\n",
      "True\n"
     ]
    }
   ],
   "source": [
    "def mean(*args):\n",
    "    \"\"\"Zwraca średnią liczb podanych jako argumenty pozycyjne\"\"\"\n",
    "    sum = 0\n",
    "    for a in args:\n",
    "        sum+=a\n",
    "    return sum/len(args)\n",
    "\n",
    "print(mean(1,2,3) == 2)\n",
    "print(mean(2,2,4,4) == 3)\n",
    "print(mean(1,2,3,4,5,61,2,12,123,123) == 33.6)"
   ]
  },
  {
   "attachments": {},
   "cell_type": "markdown",
   "metadata": {},
   "source": [
    "c) Napisz funkcję, która sprawdza, czy w danym słowniku znajduje się conajmniej podana liczba elementów"
   ]
  },
  {
   "cell_type": "code",
   "execution_count": 21,
   "metadata": {},
   "outputs": [
    {
     "ename": "TypeError",
     "evalue": "check_dictionary_content() got an unexpected keyword argument 'orange'",
     "output_type": "error",
     "traceback": [
      "\u001b[1;31m---------------------------------------------------------------------------\u001b[0m",
      "\u001b[1;31mTypeError\u001b[0m                                 Traceback (most recent call last)",
      "\u001b[1;32md:\\stu\\prog\\repozytories\\effective_python\\lab03.ipynb Cell 8\u001b[0m in \u001b[0;36m8\n\u001b[0;32m      <a href='vscode-notebook-cell:/d%3A/stu/prog/repozytories/effective_python/lab03.ipynb#X10sZmlsZQ%3D%3D?line=3'>4</a>\u001b[0m     \u001b[39m#return len(dictonary.keys)==amount\u001b[39;00m\n\u001b[0;32m      <a href='vscode-notebook-cell:/d%3A/stu/prog/repozytories/effective_python/lab03.ipynb#X10sZmlsZQ%3D%3D?line=6'>7</a>\u001b[0m d \u001b[39m=\u001b[39m {\u001b[39m'\u001b[39m\u001b[39morange\u001b[39m\u001b[39m'\u001b[39m: \u001b[39m3\u001b[39m, \u001b[39m'\u001b[39m\u001b[39mapple\u001b[39m\u001b[39m'\u001b[39m: \u001b[39m1\u001b[39m, \u001b[39m'\u001b[39m\u001b[39mdogs\u001b[39m\u001b[39m'\u001b[39m: \u001b[39m10\u001b[39m}\n\u001b[1;32m----> <a href='vscode-notebook-cell:/d%3A/stu/prog/repozytories/effective_python/lab03.ipynb#X10sZmlsZQ%3D%3D?line=7'>8</a>\u001b[0m \u001b[39mprint\u001b[39m(check_dictionary_content(d, orange\u001b[39m=\u001b[39;49m\u001b[39m2\u001b[39;49m) \u001b[39m==\u001b[39m \u001b[39mTrue\u001b[39;00m)\n\u001b[0;32m      <a href='vscode-notebook-cell:/d%3A/stu/prog/repozytories/effective_python/lab03.ipynb#X10sZmlsZQ%3D%3D?line=8'>9</a>\u001b[0m \u001b[39mprint\u001b[39m(check_dictionary_content(d, orange\u001b[39m=\u001b[39m\u001b[39m2\u001b[39m, apple\u001b[39m=\u001b[39m\u001b[39m1\u001b[39m) \u001b[39m==\u001b[39m \u001b[39mTrue\u001b[39;00m)\n\u001b[0;32m     <a href='vscode-notebook-cell:/d%3A/stu/prog/repozytories/effective_python/lab03.ipynb#X10sZmlsZQ%3D%3D?line=9'>10</a>\u001b[0m \u001b[39m#print(check_dictionary_content(d, dogs=11) == False)\u001b[39;00m\n\u001b[0;32m     <a href='vscode-notebook-cell:/d%3A/stu/prog/repozytories/effective_python/lab03.ipynb#X10sZmlsZQ%3D%3D?line=10'>11</a>\u001b[0m \u001b[39m#print(check_dictionary_content(d, dogs=9, cats=0) == True)\u001b[39;00m\n\u001b[0;32m     <a href='vscode-notebook-cell:/d%3A/stu/prog/repozytories/effective_python/lab03.ipynb#X10sZmlsZQ%3D%3D?line=11'>12</a>\u001b[0m \u001b[39m#print(check_dictionary_content(d, apple=0, cats=1) == False)\u001b[39;00m\n\u001b[0;32m     <a href='vscode-notebook-cell:/d%3A/stu/prog/repozytories/effective_python/lab03.ipynb#X10sZmlsZQ%3D%3D?line=12'>13</a>\u001b[0m \u001b[39m#print(check_dictionary_content(d, **d) == True)\u001b[39;00m\n",
      "\u001b[1;31mTypeError\u001b[0m: check_dictionary_content() got an unexpected keyword argument 'orange'"
     ]
    }
   ],
   "source": [
    "def check_dictionary_content(dictonary,amount):\n",
    "    \"\"\"Sprawdza, czy w danym słowniku znajduje się conajmniej podana liczba elementów\"\"\"\n",
    "    print(amount)\n",
    "    #return len(dictonary.keys)==amount\n",
    "    \n",
    "\n",
    "d = {'orange': 3, 'apple': 1, 'dogs': 10}\n",
    "print(check_dictionary_content(d, orange=2) == True)\n",
    "print(check_dictionary_content(d, orange=2, apple=1) == True)\n",
    "#print(check_dictionary_content(d, dogs=11) == False)\n",
    "#print(check_dictionary_content(d, dogs=9, cats=0) == True)\n",
    "#print(check_dictionary_content(d, apple=0, cats=1) == False)\n",
    "#print(check_dictionary_content(d, **d) == True)"
   ]
  },
  {
   "attachments": {},
   "cell_type": "markdown",
   "metadata": {},
   "source": [
    "## Zadanie 2\n",
    "Napisz funkcję która dla listy liczb zwróci listę częściowych udziałów w sumie tych liczb"
   ]
  },
  {
   "cell_type": "code",
   "execution_count": 24,
   "metadata": {},
   "outputs": [
    {
     "name": "stdout",
     "output_type": "stream",
     "text": [
      "True\n",
      "True\n",
      "True\n"
     ]
    }
   ],
   "source": [
    "def numbers_to_percents(values):\n",
    "    suma = sum(values)\n",
    "    return [i/suma for i in values]\n",
    "\n",
    "print(numbers_to_percents([1,2,1])==[0.25, 0.5, 0.25])\n",
    "print(numbers_to_percents([1])==[1])\n",
    "print(numbers_to_percents([1,2,3,4])==[0.1, 0.2, 0.3, 0.4])"
   ]
  },
  {
   "attachments": {},
   "cell_type": "markdown",
   "metadata": {},
   "source": [
    "Co się stanie gdy jako wejście funkcji podamy generator? W jaki sposób możemy wykryć czy wejście jest listą czy iteratorem?"
   ]
  },
  {
   "cell_type": "code",
   "execution_count": 37,
   "metadata": {},
   "outputs": [
    {
     "name": "stdout",
     "output_type": "stream",
     "text": [
      "[]\n",
      "<class 'generator'>\n",
      "<class 'list'>\n"
     ]
    }
   ],
   "source": [
    "print(numbers_to_percents(i for i in range(5)))\n",
    "#zwroci pusta liste\n",
    "\n",
    "#sprawdzic mozemy w ten sposob:\n",
    "print(type(i for i in range(5)))\n",
    "lista=[1,2,3]\n",
    "print(type(lista))\n"
   ]
  },
  {
   "attachments": {},
   "cell_type": "markdown",
   "metadata": {},
   "source": [
    "## Zadanie 3"
   ]
  },
  {
   "attachments": {},
   "cell_type": "markdown",
   "metadata": {},
   "source": [
    "a) Napisz funkcję `zwroc_rosnace` która dostanie na wejsciu funkcje jednoargumentową oraz argumenty do niej a następnie zwróci te argumenty dla których wynik jest większy od argumentu."
   ]
  },
  {
   "cell_type": "code",
   "execution_count": 39,
   "metadata": {},
   "outputs": [
    {
     "name": "stdout",
     "output_type": "stream",
     "text": [
      "True\n",
      "True\n",
      "True\n"
     ]
    }
   ],
   "source": [
    "def zwroc_rosnace(f,*args):\n",
    "    out=[i for i in args if f(i)>i]\n",
    "    return out\n",
    "\n",
    "def f1(n):\n",
    "    return n**2-3*n\n",
    "\n",
    "def f2(n):\n",
    "    return 100-n\n",
    "\n",
    "def f3(word):\n",
    "    return word[::-1]\n",
    "\n",
    "print(zwroc_rosnace(f1, 4, 6, 2, -5)==[6, -5])\n",
    "print(zwroc_rosnace(f2, *range(100))==list(range(50)))\n",
    "print(zwroc_rosnace(f3, \"python\", \"nie\", \"jest\", \"bardzo\", \"fajny\")==['jest', 'bardzo', 'fajny'])"
   ]
  },
  {
   "attachments": {},
   "cell_type": "markdown",
   "metadata": {},
   "source": [
    "b) Dopisz drugą, podobną funkcję która będzie zwracać argumenty których wyniki są większe od wyników poprzedniego argumentu"
   ]
  },
  {
   "cell_type": "code",
   "execution_count": 49,
   "metadata": {},
   "outputs": [
    {
     "name": "stdout",
     "output_type": "stream",
     "text": [
      "True\n",
      "True\n",
      "True\n"
     ]
    }
   ],
   "source": [
    "def zwroc_rosnace(f,*args):\n",
    "    wynik=None\n",
    "    out=[]\n",
    "    for i in args:\n",
    "        if((wynik is not None) and (f(i)>wynik)):\n",
    "            out.append(i)\n",
    "        wynik = f(i)\n",
    "    return out\n",
    "\n",
    "\n",
    "def f1(n):\n",
    "    return n**2-3*n\n",
    "\n",
    "def f2(n):\n",
    "    return 100-n\n",
    "\n",
    "def f3(word):\n",
    "    return word[::-1]\n",
    "\n",
    "print(zwroc_rosnace(f1, 4, -5, 6, 2)==[-5])\n",
    "print(zwroc_rosnace(f2, *range(100))==[])\n",
    "print(zwroc_rosnace(f3, \"python\", \"nie\", \"jest\", \"bardzo\", \"fajny\")==['jest', 'fajny'])"
   ]
  },
  {
   "attachments": {},
   "cell_type": "markdown",
   "metadata": {},
   "source": [
    "## Zadanie 4"
   ]
  },
  {
   "attachments": {},
   "cell_type": "markdown",
   "metadata": {},
   "source": [
    "Napisz funkcję która będzie zwracała który raz jest wywoływana"
   ]
  },
  {
   "cell_type": "code",
   "execution_count": 53,
   "metadata": {},
   "outputs": [
    {
     "name": "stdout",
     "output_type": "stream",
     "text": [
      "True\n",
      "True\n",
      "True\n"
     ]
    }
   ],
   "source": [
    "def ile_wywolana(i=[0]):\n",
    "    i[0]+=1\n",
    "    return i[0]\n",
    "\n",
    "\n",
    "print(ile_wywolana()==1)\n",
    "print(ile_wywolana()==2)\n",
    "print(ile_wywolana()==3)"
   ]
  },
  {
   "attachments": {},
   "cell_type": "markdown",
   "metadata": {},
   "source": [
    "## Zadanie 5"
   ]
  },
  {
   "attachments": {},
   "cell_type": "markdown",
   "metadata": {},
   "source": [
    "Napisz generator zwracający nieskończony ciąg licz pierwszych"
   ]
  },
  {
   "cell_type": "code",
   "execution_count": 104,
   "metadata": {},
   "outputs": [
    {
     "ename": "StopIteration",
     "evalue": "",
     "output_type": "error",
     "traceback": [
      "\u001b[1;31m---------------------------------------------------------------------------\u001b[0m",
      "\u001b[1;31mStopIteration\u001b[0m                             Traceback (most recent call last)",
      "\u001b[1;32md:\\stu\\prog\\repozytories\\effective_python\\lab03.ipynb Cell 23\u001b[0m in \u001b[0;36m1\n\u001b[0;32m     <a href='vscode-notebook-cell:/d%3A/stu/prog/repozytories/effective_python/lab03.ipynb#X31sZmlsZQ%3D%3D?line=11'>12</a>\u001b[0m                     \u001b[39m#return number\u001b[39;00m\n\u001b[0;32m     <a href='vscode-notebook-cell:/d%3A/stu/prog/repozytories/effective_python/lab03.ipynb#X31sZmlsZQ%3D%3D?line=14'>15</a>\u001b[0m \u001b[39mfor\u001b[39;00m _ \u001b[39min\u001b[39;00m \u001b[39mrange\u001b[39m(\u001b[39m1\u001b[39m,\u001b[39m10\u001b[39m):\n\u001b[1;32m---> <a href='vscode-notebook-cell:/d%3A/stu/prog/repozytories/effective_python/lab03.ipynb#X31sZmlsZQ%3D%3D?line=15'>16</a>\u001b[0m     \u001b[39mprint\u001b[39m(\u001b[39mnext\u001b[39;49m(get_primes()))\n",
      "\u001b[1;31mStopIteration\u001b[0m: "
     ]
    }
   ],
   "source": [
    "def get_primes(number=1):\n",
    "        #while True:\n",
    "        number += 1\n",
    "\n",
    "        if number > 1:\n",
    "            for i in range(2, int(number/2)+1):\n",
    "                if (number % i) == 0:\n",
    "                    #print(number, \"is not a prime number\")\n",
    "                    break\n",
    "                else:\n",
    "                    yield number\n",
    "                    #return number\n",
    "\n",
    "                \n",
    "for _ in range(1,10):\n",
    "    print(next(get_primes()))"
   ]
  },
  {
   "attachments": {},
   "cell_type": "markdown",
   "metadata": {},
   "source": [
    "## Zadanie 6"
   ]
  },
  {
   "attachments": {},
   "cell_type": "markdown",
   "metadata": {},
   "source": [
    "Uzupełnij definicje poniższych funkcji/generatorów."
   ]
  },
  {
   "cell_type": "code",
   "execution_count": null,
   "metadata": {},
   "outputs": [
    {
     "name": "stdout",
     "output_type": "stream",
     "text": [
      "True\n",
      "0 True\n",
      "1 True\n",
      "2 True\n",
      "3 True\n",
      "4 True\n",
      "5 True\n",
      "6 True\n",
      "7 True\n",
      "8 True\n",
      "9 True\n",
      "10 True\n",
      "11 True\n",
      "12 True\n",
      "13 True\n",
      "14 True\n",
      "15 True\n",
      "16 True\n",
      "17 True\n",
      "18 True\n",
      "19 True\n",
      "20 True\n",
      "21 True\n",
      "0 True\n",
      "1 True\n",
      "2 True\n",
      "3 True\n",
      "4 True\n",
      "5 True\n",
      "6 True\n",
      "7 True\n",
      "8 True\n",
      "9 True\n",
      "10 True\n",
      "11 True\n",
      "12 True\n",
      "13 True\n",
      "14 True\n",
      "15 True\n",
      "16 True\n",
      "17 True\n",
      "18 True\n",
      "19 True\n",
      "20 True\n",
      "21 True\n"
     ]
    }
   ],
   "source": [
    "def natural_numbers(k=0):\n",
    "    \"\"\"Tworzy generator liczb naturalnych od liczby k\"\"\"\n",
    "    index = k\n",
    "    while True:\n",
    "        yield index\n",
    "        index += 1\n",
    "    \n",
    "\n",
    "import types\n",
    "print(isinstance(natural_numbers(), types.GeneratorType))\n",
    "\n",
    "for i, n in enumerate(natural_numbers()):\n",
    "    print(i, i == n)\n",
    "    if i > 20:\n",
    "        break\n",
    "        \n",
    "for i, n in enumerate(natural_numbers(1)):\n",
    "    print(i, i+1 == n)\n",
    "    if i > 20:\n",
    "        break"
   ]
  },
  {
   "cell_type": "code",
   "execution_count": null,
   "metadata": {},
   "outputs": [
    {
     "name": "stdout",
     "output_type": "stream",
     "text": [
      "False\n"
     ]
    },
    {
     "ename": "TypeError",
     "evalue": "'NoneType' object is not iterable",
     "output_type": "error",
     "traceback": [
      "\u001b[1;31m---------------------------------------------------------------------------\u001b[0m",
      "\u001b[1;31mTypeError\u001b[0m                                 Traceback (most recent call last)",
      "\u001b[1;32md:\\stu\\prog\\repozytories\\effective_python\\lab03.ipynb Cell 27\u001b[0m in \u001b[0;36m9\n\u001b[0;32m      <a href='vscode-notebook-cell:/d%3A/stu/prog/repozytories/effective_python/lab03.ipynb#X35sZmlsZQ%3D%3D?line=5'>6</a>\u001b[0m \u001b[39mprint\u001b[39m(\u001b[39misinstance\u001b[39m(factorials(), types\u001b[39m.\u001b[39mGeneratorType))\n\u001b[0;32m      <a href='vscode-notebook-cell:/d%3A/stu/prog/repozytories/effective_python/lab03.ipynb#X35sZmlsZQ%3D%3D?line=7'>8</a>\u001b[0m results \u001b[39m=\u001b[39m [\u001b[39m1\u001b[39m, \u001b[39m1\u001b[39m, \u001b[39m2\u001b[39m, \u001b[39m6\u001b[39m, \u001b[39m24\u001b[39m, \u001b[39m120\u001b[39m, \u001b[39m720\u001b[39m, \u001b[39m5040\u001b[39m]\n\u001b[1;32m----> <a href='vscode-notebook-cell:/d%3A/stu/prog/repozytories/effective_python/lab03.ipynb#X35sZmlsZQ%3D%3D?line=8'>9</a>\u001b[0m \u001b[39mfor\u001b[39;00m truth, answer \u001b[39min\u001b[39;00m \u001b[39mzip\u001b[39;49m(results, factorials()):\n\u001b[0;32m     <a href='vscode-notebook-cell:/d%3A/stu/prog/repozytories/effective_python/lab03.ipynb#X35sZmlsZQ%3D%3D?line=9'>10</a>\u001b[0m     \u001b[39mprint\u001b[39m(truth, truth \u001b[39m==\u001b[39m answer)\n",
      "\u001b[1;31mTypeError\u001b[0m: 'NoneType' object is not iterable"
     ]
    }
   ],
   "source": [
    "def factorials():\n",
    "    \"\"\"Tworzy generator kolejnych silnii\"\"\"\n",
    "    pass\n",
    "\n",
    "import types\n",
    "print(isinstance(factorials(), types.GeneratorType))\n",
    "\n",
    "results = [1, 1, 2, 6, 24, 120, 720, 5040]\n",
    "for truth, answer in zip(results, factorials()):\n",
    "    print(truth, truth == answer)"
   ]
  },
  {
   "attachments": {},
   "cell_type": "markdown",
   "metadata": {},
   "source": [
    "## Zadanie 7\n",
    "\n",
    "Napisz generator nieskończonego ciągu [liczb Fibonacciego](https://pl.wikipedia.org/wiki/Ci%C4%85g_Fibonacciego)."
   ]
  },
  {
   "cell_type": "code",
   "execution_count": null,
   "metadata": {},
   "outputs": [],
   "source": []
  }
 ],
 "metadata": {
  "kernelspec": {
   "display_name": "Python 3",
   "language": "python",
   "name": "python3"
  },
  "language_info": {
   "codemirror_mode": {
    "name": "ipython",
    "version": 3
   },
   "file_extension": ".py",
   "mimetype": "text/x-python",
   "name": "python",
   "nbconvert_exporter": "python",
   "pygments_lexer": "ipython3",
   "version": "3.8.10"
  }
 },
 "nbformat": 4,
 "nbformat_minor": 2
}
