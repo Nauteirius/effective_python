{
 "cells": [
  {
   "cell_type": "markdown",
   "metadata": {},
   "source": [
    "# Lab 07"
   ]
  },
  {
   "cell_type": "markdown",
   "metadata": {},
   "source": [
    "## Zadanie 1"
   ]
  },
  {
   "cell_type": "markdown",
   "metadata": {},
   "source": [
    "Przygotuj demo programu znajdującego miejsca zerowe metodą Newtona. Wykorzystując `argparse` ([link](https://docs.python.org/3.6/library/argparse.html#module-argparse)) lub `optparse` ([link](https://docs.python.org/3.6/library/optparse.html)) obsłuż:\n",
    "- ustalane punktu startowego,\n",
    "- wielkość kroku w pochodnej,\n",
    "- ilość kroków metody,\n",
    "- dokładność\n",
    "- pomoc\n",
    "\n",
    "Program uruchamiamy podając, np.:"
   ]
  },
  {
   "cell_type": "code",
   "execution_count": null,
   "metadata": {},
   "outputs": [],
   "source": [
    "\n"
   ]
  },
  {
   "cell_type": "markdown",
   "metadata": {},
   "source": [
    "`./newton.py x**2+x+1 -h 0.00001`"
   ]
  },
  {
   "cell_type": "markdown",
   "metadata": {},
   "source": [
    "## Zadanie 2"
   ]
  },
  {
   "cell_type": "markdown",
   "metadata": {},
   "source": [
    "Zadanie należy wykonać wykorzystując program `BagOfWords` z poprzednich zajęć.\n",
    "\n",
    "\n",
    "Przerób ją tak, żeby interpunkcja, cyfry i wszelkie inne znaki nie przeszkadzały w parsowaniu tekstu. Uruchom ja na [tekście hamleta](http://www.gutenberg.org/cache/epub/1787/pg1787.txt). Ile razy występuje słowo hamlet? Jak brzmi 10 najczęściej występujących słów?"
   ]
  },
  {
   "cell_type": "code",
   "execution_count": 23,
   "metadata": {},
   "outputs": [
    {
     "name": "stdout",
     "output_type": "stream",
     "text": [
      "65\n",
      "('the', 1073)\n",
      "('and', 751)\n",
      "('of', 737)\n",
      "('to', 687)\n",
      "('I', 519)\n",
      "('a', 510)\n",
      "('you', 480)\n",
      "('my', 432)\n",
      "('in', 425)\n",
      "('Ham', 358)\n"
     ]
    }
   ],
   "source": [
    "import json\n",
    "import jsonpickle\n",
    "import string\n",
    "\n",
    "\n",
    "class BagOfWords:\n",
    "    def __init__(self,text):\n",
    "        if not isinstance(text, str):\n",
    "            if not isinstance(text, dict):\n",
    "                text = text.read()\n",
    "            else: \n",
    "                self.dictonary = text\n",
    "                return\n",
    "        self.dictonary = {}\n",
    "        #lines = f.readlines()\n",
    "        translator = str.maketrans(\"\", \"\", string.punctuation+string.digits)\n",
    "        text = text.translate(translator)\n",
    "        words = text.split(\" \")\n",
    "        for word in words:\n",
    "            if word == \"\":\n",
    "                continue\n",
    "            if word in self.dictonary.keys():\n",
    "                self.dictonary[word]+=1\n",
    "            else:\n",
    "                self.dictonary[word]=1\n",
    "\n",
    "        self.sort()\n",
    "    def sort(self):\n",
    "        self.dictonary = dict(sorted(self.dictonary.items(), key=lambda item: item[1], reverse=True))\n",
    "\n",
    "    def __iter__(self):\n",
    "        return iter(self.dictonary.keys())\n",
    "    def __add__(self,dictonary):\n",
    "        result=self.dictonary.copy()\n",
    "        for key in dictonary:\n",
    "            if key in result:\n",
    "                result[key]+=dictonary[key]\n",
    "            else: result[key]=dictonary[key]\n",
    "        return BagOfWords(result)\n",
    "    def __str__(self):\n",
    "        s=\"{\"\n",
    "        for key, value in self.dictonary.items():\n",
    "            if(s==\"{\"):\n",
    "                s= s+\"'\"+key+\"': \"+str(value)\n",
    "            else:\n",
    "                s=s+ \", \"+\"'\"+key+\"': \"+str(value)\n",
    "        s=s+\"}\"\n",
    "        return s\n",
    "\n",
    "    def __contains__(self, item):\n",
    "        return item in self.dictonary.keys()\n",
    "    \n",
    "    def __getitem__(self,item):\n",
    "        if item in self.dictonary.keys():\n",
    "            return self.dictonary[item]\n",
    "        else: return 0\n",
    "\n",
    "    def __setitem__(self, item,value):\n",
    "        self.dictonary[item]=value\n",
    "        self.sort()\n",
    "\n",
    "    def save(self,file_path):\n",
    "        with open(file_path, \"w\") as file_write:\n",
    "            json_string = jsonpickle.encode(self)\n",
    "            json.dump(json_string, file_write)\n",
    "    def load(self,file_path):\n",
    "        with open(file_path) as file_object:\n",
    "            json_string = json.load(file_object)\n",
    "            self.dictonary = (jsonpickle.decode(json_string)).dictonary\n",
    "            self.sort()\n",
    "\n",
    "bow=BagOfWords(open(\"test_hamleta.txt\"))\n",
    "print (bow[\"Hamlet\"])\n",
    "licznik = 0\n",
    "for i in bow:\n",
    "    print ((i,bow[i]))\n",
    "    licznik+=1\n",
    "    if licznik >=10:\n",
    "        break "
   ]
  },
  {
   "cell_type": "markdown",
   "metadata": {},
   "source": [
    "## Zadanie 3"
   ]
  },
  {
   "cell_type": "markdown",
   "metadata": {},
   "source": [
    "Wykorzystując `pickle` zapisz i odczytaj klasy z poprzedniego zadania nakarmonej Hamletem. Porównaj metody i rozmiar."
   ]
  },
  {
   "cell_type": "code",
   "execution_count": 6,
   "metadata": {},
   "outputs": [
    {
     "name": "stdout",
     "output_type": "stream",
     "text": [
      "raw class:  1064\n",
      "raw object:  48\n",
      "pickled class:  38\n",
      "pickled object:  93193\n",
      "dumps class:  71\n",
      "dumps object:  93226\n"
     ]
    }
   ],
   "source": [
    "import json\n",
    "import jsonpickle\n",
    "import string\n",
    "\n",
    "\n",
    "class BagOfWords:\n",
    "    def __init__(self,text):\n",
    "        if not isinstance(text, str):\n",
    "            if not isinstance(text, dict):\n",
    "                text = text.read()\n",
    "            else: \n",
    "                self.dictonary = text\n",
    "                return\n",
    "        self.dictonary = {}\n",
    "        #lines = f.readlines()\n",
    "        translator = str.maketrans(\"\", \"\", string.punctuation+string.digits)\n",
    "        text = text.translate(translator)\n",
    "        words = text.split(\" \")\n",
    "        for word in words:\n",
    "            if word == \"\":\n",
    "                continue\n",
    "            if word in self.dictonary.keys():\n",
    "                self.dictonary[word]+=1\n",
    "            else:\n",
    "                self.dictonary[word]=1\n",
    "\n",
    "        self.sort()\n",
    "    def sort(self):\n",
    "        self.dictonary = dict(sorted(self.dictonary.items(), key=lambda item: item[1], reverse=True))\n",
    "\n",
    "    def __iter__(self):\n",
    "        return iter(self.dictonary.keys())\n",
    "    def __add__(self,dictonary):\n",
    "        result=self.dictonary.copy()\n",
    "        for key in dictonary:\n",
    "            if key in result:\n",
    "                result[key]+=dictonary[key]\n",
    "            else: result[key]=dictonary[key]\n",
    "        return BagOfWords(result)\n",
    "    def __str__(self):\n",
    "        s=\"{\"\n",
    "        for key, value in self.dictonary.items():\n",
    "            if(s==\"{\"):\n",
    "                s= s+\"'\"+key+\"': \"+str(value)\n",
    "            else:\n",
    "                s=s+ \", \"+\"'\"+key+\"': \"+str(value)\n",
    "        s=s+\"}\"\n",
    "        return s\n",
    "\n",
    "    def __contains__(self, item):\n",
    "        return item in self.dictonary.keys()\n",
    "    \n",
    "    def __getitem__(self,item):\n",
    "        if item in self.dictonary.keys():\n",
    "            return self.dictonary[item]\n",
    "        else: return 0\n",
    "\n",
    "    def __setitem__(self, item,value):\n",
    "        self.dictonary[item]=value\n",
    "        self.sort()\n",
    "\n",
    "    def save(self,file_path):\n",
    "        with open(file_path, \"w\") as file_write:\n",
    "            json_string = jsonpickle.encode(self)\n",
    "            json.dump(json_string, file_write)\n",
    "    def load(self,file_path):\n",
    "        with open(file_path) as file_object:\n",
    "            json_string = json.load(file_object)\n",
    "            self.dictonary = (jsonpickle.decode(json_string)).dictonary\n",
    "            self.sort()\n",
    "\n",
    "bow=BagOfWords(open(\"test_hamleta.txt\"))\n",
    "import sys\n",
    "import os\n",
    "print(\"raw class: \",sys.getsizeof(BagOfWords))\n",
    "print(\"raw object: \",sys.getsizeof(bow))\n",
    "import pickle\n",
    "with open(\"pickleClass.pkl\", \"wb\") as file:\n",
    "    pickle.dump(BagOfWords, file)\n",
    "# with open(\"pickleClass.pkl\", \"rb\"):\n",
    "#     #pickled_size = sys.getsizeof(pickle.load(file))\n",
    "\n",
    "\n",
    "print(\"pickled class: \",os.path.getsize(\"pickleClass.pkl\"))\n",
    "with open(\"pickleObject.pkl\", \"wb\") as file:\n",
    "    pickle.dump(bow, file)\n",
    "# with open(\"pickleObject.pkl\", \"rb\"):\n",
    "#     pickled_size = sys.getsizeof(pickle.load(file))\n",
    "print(\"pickled object: \",os.path.getsize(\"pickleObject.pkl\"))\n",
    "\n",
    "dumps1 = pickle.dumps(BagOfWords)\n",
    "print(\"dumps class: \",sys.getsizeof(dumps1))\n",
    "dumps2 = pickle.dumps(bow)\n",
    "print(\"dumps object: \",sys.getsizeof(dumps2))"
   ]
  },
  {
   "cell_type": "code",
   "execution_count": null,
   "metadata": {},
   "outputs": [],
   "source": []
  },
  {
   "cell_type": "markdown",
   "metadata": {},
   "source": [
    "## Zadanie 4"
   ]
  },
  {
   "cell_type": "markdown",
   "metadata": {},
   "source": [
    "Wykorzystując [https://gist.github.com/pamelafox/986163](https://gist.github.com/pamelafox/986163) podaj aktualną godzinę we:\n",
    "- wszystkich krajach, wyświetlając je zgrupowane względem kontynentów,\n",
    "- przeprowadź symulacyjne wyświetlanie kolejnych krajów w miarę jak w danym kraju wybija północ, opóżnienie wyświetlania ustaw proporcjonalne do realnego czasu"
   ]
  },
  {
   "cell_type": "markdown",
   "metadata": {},
   "source": [
    "## Zadanie 5"
   ]
  },
  {
   "cell_type": "markdown",
   "metadata": {},
   "source": [
    "Dla klasy `BagOfWords` napisz metody `save` oraz `load` wykorzystujące `json`'a do zapisu i odczytu danych."
   ]
  },
  {
   "cell_type": "code",
   "execution_count": 24,
   "metadata": {},
   "outputs": [
    {
     "name": "stdout",
     "output_type": "stream",
     "text": [
      "{'ala': 2, 'ma': 1, 'kota': 1}\n",
      "yes\n",
      "0\n",
      "{'kota': 5, 'ala': 2, 'ma': 1}\n",
      "92\n",
      "kota\n",
      "ala\n",
      "ma\n",
      "{'kota': 5, 'ala': 2, 'ma': 1}\n",
      "bow3:  {'kota': 6, 'ala': 2, 'ma': 2, 'Tomek': 1, 'też': 1}\n",
      "bow3 po podmianie:  {'ala': 2, 'ma': 1, 'kota': 1}\n",
      "bow3 po wczytaniu:  {'kota': 6, 'ala': 2, 'ma': 2, 'Tomek': 1, 'też': 1}\n"
     ]
    }
   ],
   "source": [
    "import json\n",
    "import jsonpickle\n",
    "import string\n",
    "\n",
    "\n",
    "class BagOfWords:\n",
    "    def __init__(self,text):\n",
    "        if not isinstance(text, str):\n",
    "            if not isinstance(text, dict):\n",
    "                text = text.read()\n",
    "            else: \n",
    "                self.dictonary = text\n",
    "                return\n",
    "        self.dictonary = {}\n",
    "        #lines = f.readlines()\n",
    "        translator = str.maketrans(\"\", \"\", string.punctuation+string.digits)\n",
    "        text = text.translate(translator)\n",
    "        words = text.split(\" \")\n",
    "        for word in words:\n",
    "            if word == \"\":\n",
    "                continue\n",
    "            if word in self.dictonary.keys():\n",
    "                self.dictonary[word]+=1\n",
    "            else:\n",
    "                self.dictonary[word]=1\n",
    "\n",
    "        self.sort()\n",
    "    def sort(self):\n",
    "        self.dictonary = dict(sorted(self.dictonary.items(), key=lambda item: item[1], reverse=True))\n",
    "\n",
    "    def __iter__(self):\n",
    "        return iter(self.dictonary.keys())\n",
    "    def __add__(self,dictonary):\n",
    "        result=self.dictonary.copy()\n",
    "        for key in dictonary:\n",
    "            if key in result:\n",
    "                result[key]+=dictonary[key]\n",
    "            else: result[key]=dictonary[key]\n",
    "        return BagOfWords(result)\n",
    "    def __str__(self):\n",
    "        s=\"{\"\n",
    "        for key, value in self.dictonary.items():\n",
    "            if(s==\"{\"):\n",
    "                s= s+\"'\"+key+\"': \"+str(value)\n",
    "            else:\n",
    "                s=s+ \", \"+\"'\"+key+\"': \"+str(value)\n",
    "        s=s+\"}\"\n",
    "        return s\n",
    "\n",
    "    def __contains__(self, item):\n",
    "        return item in self.dictonary.keys()\n",
    "    \n",
    "    def __getitem__(self,item):\n",
    "        if item in self.dictonary.keys():\n",
    "            return self.dictonary[item]\n",
    "        else: return 0\n",
    "\n",
    "    def __setitem__(self, item,value):\n",
    "        self.dictonary[item]=value\n",
    "        self.sort()\n",
    "\n",
    "    def save(self,file_path):\n",
    "        with open(file_path, \"w\") as file_write:\n",
    "            json_string = jsonpickle.encode(self)\n",
    "            json.dump(json_string, file_write)\n",
    "    def load(self,file_path):\n",
    "        with open(file_path) as file_object:\n",
    "            json_string = json.load(file_object)\n",
    "            self.dictonary = (jsonpickle.decode(json_string)).dictonary\n",
    "            self.sort()\n",
    "\n",
    "bow = BagOfWords(\"ala ma  kota ala\")\n",
    "print(bow)\n",
    "if (\"ala\" in bow):\n",
    "    print(\"yes\")\n",
    "print(bow[\"ara\"])\n",
    "bow[\"kota\"] = 5\n",
    "print(bow)\n",
    "bow1=BagOfWords(open(\"atoms.txt\"))\n",
    "print(bow1[\"OUTPUT\"])\n",
    "bow2=BagOfWords(\"Tomek też ma kota\")\n",
    "for i in bow:\n",
    "    print(i)\n",
    "\n",
    "bow3 = bow + bow2\n",
    "print(bow)\n",
    "print(\"bow3: \", bow3)\n",
    "bow3.save(\"zapis.json\")\n",
    "bow3=BagOfWords(\"ala ma kota ala\")\n",
    "print(\"bow3 po podmianie: \", bow3)\n",
    "bow3.load(\"zapis.json\")\n",
    "print(\"bow3 po wczytaniu: \",bow3)"
   ]
  }
 ],
 "metadata": {
  "kernelspec": {
   "display_name": "Python 3",
   "language": "python",
   "name": "python3"
  },
  "language_info": {
   "codemirror_mode": {
    "name": "ipython",
    "version": 3
   },
   "file_extension": ".py",
   "mimetype": "text/x-python",
   "name": "python",
   "nbconvert_exporter": "python",
   "pygments_lexer": "ipython3",
   "version": "3.9.0"
  }
 },
 "nbformat": 4,
 "nbformat_minor": 2
}
